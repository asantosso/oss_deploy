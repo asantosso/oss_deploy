{
  "nbformat": 4,
  "nbformat_minor": 0,
  "metadata": {
    "colab": {
      "provenance": []
    },
    "kernelspec": {
      "name": "python3",
      "display_name": "Python 3"
    },
    "language_info": {
      "name": "python"
    }
  },
  "cells": [
    {
      "cell_type": "markdown",
      "source": [
        "# ⭐ O colab abaixo, tem como objetivo realizar o treino de 2 modelos usando um conjunto com 10 classes, realizando o tunning dos paramestros para alcançar um bom resultado ⭐.\n",
        "\n",
        "---\n"
      ],
      "metadata": {
        "id": "wdlTKuW2KDph"
      }
    },
    {
      "cell_type": "code",
      "execution_count": null,
      "metadata": {
        "id": "1s01heaSCgV3"
      },
      "outputs": [],
      "source": [
        "## Realizando a importação das bibliotecas ###\n",
        "\n",
        "from sklearn.datasets import fetch_20newsgroups # dataset de texto para classificação contendo 20 classes\n",
        "import pandas as pd \n",
        "from sklearn.feature_extraction.text import CountVectorizer, TfidfTransformer # carrega Vectorizer e TFIDF\n",
        "from sklearn.naive_bayes import MultinomialNB # algoritmo do Naive Bayes\n",
        "from sklearn.pipeline import Pipeline # Cria pipeline contendo todas as transformações e modelo\n",
        "from nltk.stem.snowball import SnowballStemmer # Função que retorna a palavra a sua raiz\n",
        "import numpy as np\n",
        "from sklearn.linear_model import SGDClassifier # Algoritmo Gradient Descendente Stocastico\n",
        "from sklearn.model_selection import GridSearchCV\n",
        "import nltk \n",
        "from sklearn.metrics import f1_score, accuracy_score, confusion_matrix, classification_report, ConfusionMatrixDisplay\n",
        "import warnings\n",
        "import matplotlib.pyplot as plt \n",
        "\n",
        "warnings.simplefilter('ignore')\n"
      ]
    },
    {
      "cell_type": "code",
      "source": [
        "# Carrega o dataset de treinamento do fetch 20 news groups\n",
        "newsgroups = fetch_20newsgroups(subset='train') "
      ],
      "metadata": {
        "id": "RWg9LUoCC3pM"
      },
      "execution_count": null,
      "outputs": []
    },
    {
      "cell_type": "code",
      "source": [
        "## Lista de classes disponiveis para usar nos treinamentos ##\n",
        "list(newsgroups.target_names)"
      ],
      "metadata": {
        "colab": {
          "base_uri": "https://localhost:8080/"
        },
        "id": "b5D5yMYwDMts",
        "outputId": "e1993726-8530-4e77-8ed7-7da3727c34a7"
      },
      "execution_count": null,
      "outputs": [
        {
          "output_type": "execute_result",
          "data": {
            "text/plain": [
              "['alt.atheism',\n",
              " 'comp.graphics',\n",
              " 'comp.os.ms-windows.misc',\n",
              " 'comp.sys.ibm.pc.hardware',\n",
              " 'comp.sys.mac.hardware',\n",
              " 'comp.windows.x',\n",
              " 'misc.forsale',\n",
              " 'rec.autos',\n",
              " 'rec.motorcycles',\n",
              " 'rec.sport.baseball',\n",
              " 'rec.sport.hockey',\n",
              " 'sci.crypt',\n",
              " 'sci.electronics',\n",
              " 'sci.med',\n",
              " 'sci.space',\n",
              " 'soc.religion.christian',\n",
              " 'talk.politics.guns',\n",
              " 'talk.politics.mideast',\n",
              " 'talk.politics.misc',\n",
              " 'talk.religion.misc']"
            ]
          },
          "metadata": {},
          "execution_count": 3
        }
      ]
    },
    {
      "cell_type": "code",
      "source": [
        "## Realizado as escolhas das classes que serão usadas para os modelos, nota-se que peguei os modelos que sejam mais semalhantes para conseguir uma boa correlação ##\n",
        "categories = ['comp.graphics',\n",
        "              'comp.os.ms-windows.misc',\n",
        "              'comp.sys.ibm.pc.hardware',\n",
        "              'comp.sys.mac.hardware',              \n",
        "              'comp.windows.x',\n",
        "      #---------------------------------------------------------------#\n",
        "      # ⇈ Os 5 modelos acima são relacionados a tecnlogia            #\n",
        "      # ⇊ Os 5 modelos abaixo são relacionados a politica e religião #\n",
        "      #---------------------------------------------------------------#\n",
        "              'soc.religion.christian',\n",
        "              'talk.politics.guns',\n",
        "              'talk.politics.mideast',\n",
        "              'talk.politics.misc',\n",
        "              'talk.religion.misc']\n",
        "\n",
        "#Após a escolha das classes será feito o treino e teste\n",
        "df_train = fetch_20newsgroups(subset='train', categories=categories, shuffle=True, random_state=42)\n",
        "df_test = fetch_20newsgroups(subset='test', categories=categories, shuffle=True)"
      ],
      "metadata": {
        "id": "CrvZ_visDN0E"
      },
      "execution_count": null,
      "outputs": []
    },
    {
      "cell_type": "code",
      "source": [
        "## Apresentando as classes escolhidas acima ##\n",
        "df_train.target_names"
      ],
      "metadata": {
        "colab": {
          "base_uri": "https://localhost:8080/"
        },
        "id": "SJGPN580FYLs",
        "outputId": "572bfb10-2770-4c17-f757-09179e517c85"
      },
      "execution_count": null,
      "outputs": [
        {
          "output_type": "execute_result",
          "data": {
            "text/plain": [
              "['comp.graphics',\n",
              " 'comp.os.ms-windows.misc',\n",
              " 'comp.sys.ibm.pc.hardware',\n",
              " 'comp.sys.mac.hardware',\n",
              " 'comp.windows.x',\n",
              " 'soc.religion.christian',\n",
              " 'talk.politics.guns',\n",
              " 'talk.politics.mideast',\n",
              " 'talk.politics.misc',\n",
              " 'talk.religion.misc']"
            ]
          },
          "metadata": {},
          "execution_count": 5
        }
      ]
    },
    {
      "cell_type": "markdown",
      "source": [
        "\n",
        "\n",
        "---\n",
        "\n",
        "\n",
        "# **Iniciando a primeira abordagem**\n",
        "\n",
        "#####Nesta primeira abordagem, vamos usar um modelo sem o tunning de parametros, e vamos coletar o resultado para depois fazer um comparativo com um modelo tunado 🚀#####\n",
        "\n",
        "\n",
        "---"
      ],
      "metadata": {
        "id": "usRO3bB-MB7b"
      }
    },
    {
      "cell_type": "code",
      "source": [
        "# Pipeline de machine learning \n",
        "clf_1 = Pipeline([\n",
        "    #1- Aplicar o count vectorizer nos textos, para converter em uma matriz e fazer a frequência de ocorrência de cada palavra.\n",
        "    ('vect', CountVectorizer()),\n",
        "    #2- Passo 2, aplicar o TFIDF nos textos levando em consideração a frequência com que aparecem em cada documento e sua raridade.\n",
        "    ('tfidf', TfidfTransformer()),\n",
        "    #3- aplicar o algoritmo Naive Bayes para calcular a probabilidade de que um objeto (por exemplo, um documento de texto) pertença a uma determinada classe\n",
        "    ('clf', MultinomialNB())]) "
      ],
      "metadata": {
        "id": "IHI3rUukuH7q"
      },
      "execution_count": null,
      "outputs": []
    },
    {
      "cell_type": "code",
      "source": [
        " # Realiza o treinamento do modelo no pipeline\n",
        "clf_trained = clf_1.fit(df_train.data, df_train.target)"
      ],
      "metadata": {
        "id": "RN_8BJrjuPFJ"
      },
      "execution_count": null,
      "outputs": []
    },
    {
      "cell_type": "code",
      "source": [
        " # Faz predição no dado de teste\n",
        "pred = clf_trained.predict(df_test.data)"
      ],
      "metadata": {
        "id": "YxdneRNFwg3P"
      },
      "execution_count": null,
      "outputs": []
    },
    {
      "cell_type": "code",
      "source": [
        "#   Abaixo será gerado as métricas de assertividade do modelo e a precisão de cada classe.\n",
        "#   Conforme acima, tentamos pegar os 10 dados que teria uma correlação maior entre eles pegando 5 de cada tema\n",
        "creport = classification_report(df_test.target, pred, target_names=df_test.target_names)\n",
        "print(creport)"
      ],
      "metadata": {
        "colab": {
          "base_uri": "https://localhost:8080/"
        },
        "id": "p1vTGkNGSTQy",
        "outputId": "be34fde8-291a-413e-d23a-49749cff8067"
      },
      "execution_count": null,
      "outputs": [
        {
          "output_type": "stream",
          "name": "stdout",
          "text": [
            "                          precision    recall  f1-score   support\n",
            "\n",
            "           comp.graphics       0.83      0.72      0.77       389\n",
            " comp.os.ms-windows.misc       0.81      0.67      0.73       394\n",
            "comp.sys.ibm.pc.hardware       0.74      0.85      0.79       392\n",
            "   comp.sys.mac.hardware       0.88      0.83      0.85       385\n",
            "          comp.windows.x       0.89      0.79      0.84       395\n",
            "  soc.religion.christian       0.53      0.99      0.69       398\n",
            "      talk.politics.guns       0.64      0.96      0.77       364\n",
            "   talk.politics.mideast       0.95      0.92      0.93       376\n",
            "      talk.politics.misc       0.97      0.42      0.59       310\n",
            "      talk.religion.misc       1.00      0.15      0.26       251\n",
            "\n",
            "                accuracy                           0.76      3654\n",
            "               macro avg       0.82      0.73      0.72      3654\n",
            "            weighted avg       0.81      0.76      0.74      3654\n",
            "\n"
          ]
        }
      ]
    },
    {
      "cell_type": "code",
      "source": [
        "## Será mostrado abaixo o resultado do acurácia sem o tunning de parametros ##\n",
        "acc = np.mean(pred == df_test.target)\n",
        "print('>>>> Acurácia: ', acc)"
      ],
      "metadata": {
        "colab": {
          "base_uri": "https://localhost:8080/"
        },
        "id": "P_kzwN4ywto8",
        "outputId": "a19024ee-0897-448e-b88b-1d9073227cf9"
      },
      "execution_count": null,
      "outputs": [
        {
          "output_type": "stream",
          "name": "stdout",
          "text": [
            ">>>> Acurácia:  0.7567049808429118\n"
          ]
        }
      ]
    },
    {
      "cell_type": "markdown",
      "source": [
        "\n",
        "\n",
        "---\n",
        "\n",
        "\n",
        "# **Iniciando a SEGUNDA abordagem**\n",
        "\n",
        "#####Agora vamos pegar os mesmos dados e realizar o tunning de parametros e vamos fazer o comparativo com a primeira abordagem #####\n",
        "\n",
        "#####Para isto vamos usar o modelo **Naive Bayes** com **Grid Search**\n",
        "\n",
        "\n",
        "# 🚀**Tunning de parametros**🚀\n",
        "\n",
        "\n",
        "---"
      ],
      "metadata": {
        "id": "xSTPbiawQDhH"
      }
    },
    {
      "cell_type": "code",
      "source": [
        "# Grid Search\n",
        "# Aqui, estamos criando uma lista de parâmetros para os quais gostaríamos de fazer o ajuste de desempenho.\n",
        "# Por exemplo. vect__ngram_range; aqui estamos dizendo para usar unigramas e bigramas e escolher aquele que é o ideal.\n",
        "\n",
        "parameters = {'vect__ngram_range': [(1, 1), (1, 2)], 'tfidf__use_idf': (True, False), 'clf__alpha': (1e-2, 1e-3)}"
      ],
      "metadata": {
        "id": "RoZd3_jZyytB"
      },
      "execution_count": null,
      "outputs": []
    },
    {
      "cell_type": "code",
      "source": [
        "## O Tempo da execução pode levar entre 3 a 4 minutos pela quantidade de classses escolhidas.\n",
        "\n",
        " # Define o grid search para buscar os melhores parametros\n",
        "gs_clf = GridSearchCV(clf_trained, parameters, n_jobs=-1) \n",
        "\n",
        "# treinamento do modelo \n",
        "gs_clf = gs_clf.fit(df_train.data, df_train.target) "
      ],
      "metadata": {
        "id": "K3uzJggez4qC"
      },
      "execution_count": null,
      "outputs": []
    },
    {
      "cell_type": "code",
      "source": [
        "# Para ver a melhor pontuação média e os parâmetros que foram aplicados, execute o seguinte código\n",
        "\n",
        "print(gs_clf.best_score_)\n",
        "gs_clf.best_params_"
      ],
      "metadata": {
        "colab": {
          "base_uri": "https://localhost:8080/"
        },
        "id": "ajgZdm8D4w0z",
        "outputId": "05fb0f75-8648-4a56-9963-9fdf56e0919f"
      },
      "execution_count": null,
      "outputs": [
        {
          "output_type": "stream",
          "name": "stdout",
          "text": [
            "0.9205410350799414\n"
          ]
        },
        {
          "output_type": "execute_result",
          "data": {
            "text/plain": [
              "{'clf__alpha': 0.001, 'tfidf__use_idf': True, 'vect__ngram_range': (1, 2)}"
            ]
          },
          "metadata": {},
          "execution_count": 13
        }
      ]
    },
    {
      "cell_type": "code",
      "source": [
        "# Faz predição no dado de teste\n",
        "pred2 = gs_clf.predict(df_test.data) "
      ],
      "metadata": {
        "id": "eRSK5-Hr4wwb"
      },
      "execution_count": null,
      "outputs": []
    },
    {
      "cell_type": "code",
      "source": [
        "##RESULTADO##\n",
        "acc2 = np.mean(pred2 == df_test.target)\n",
        "print('>>>> Acurácia: ', acc2)"
      ],
      "metadata": {
        "colab": {
          "base_uri": "https://localhost:8080/"
        },
        "id": "mVZO11VRUQsX",
        "outputId": "2abe7dba-effd-4244-bc29-e0d49840922f"
      },
      "execution_count": null,
      "outputs": [
        {
          "output_type": "stream",
          "name": "stdout",
          "text": [
            ">>>> Acurácia:  0.8229337712096333\n"
          ]
        }
      ]
    },
    {
      "cell_type": "code",
      "source": [
        "#Fazendo o comparativo dos dois modelos\n",
        "\n",
        "#SEM TUNNING DE PARAMETROS\n",
        "print('>>>> Acurácia SEM tunning: ', acc)\n",
        "\n",
        "print('\\n')\n",
        "\n",
        "#COM TUNNING DE PARAMETROS\n",
        "print('>>>> Acurácia COM tunning: ', acc2)\n",
        "\n",
        "#Resumimos que um conjunto de dados, mesmo que seja com dados diferentes, conseguimos através do Tunning, um bom resultado de Acurácia!!"
      ],
      "metadata": {
        "colab": {
          "base_uri": "https://localhost:8080/"
        },
        "id": "gWyuH4NyXgx8",
        "outputId": "b52212c4-196c-4df0-ac41-4b039333e4b7"
      },
      "execution_count": null,
      "outputs": [
        {
          "output_type": "stream",
          "name": "stdout",
          "text": [
            ">>>> Acurácia SEM tunning:  0.7567049808429118\n",
            "\n",
            "\n",
            ">>>> Acurácia COM tunning:  0.8229337712096333\n"
          ]
        }
      ]
    }
  ]
}